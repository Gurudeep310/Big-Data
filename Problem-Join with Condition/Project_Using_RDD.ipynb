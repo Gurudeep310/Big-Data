{
 "cells": [
  {
   "cell_type": "code",
   "execution_count": 1,
   "id": "1600ddd5",
   "metadata": {},
   "outputs": [
    {
     "data": {
      "text/plain": [
       "'C:\\\\spark-3.4.0-bin-hadoop3'"
      ]
     },
     "execution_count": 1,
     "metadata": {},
     "output_type": "execute_result"
    }
   ],
   "source": [
    "import findspark\n",
    "findspark.init()\n",
    "findspark.find()"
   ]
  },
  {
   "cell_type": "code",
   "execution_count": 2,
   "id": "55344b49",
   "metadata": {},
   "outputs": [],
   "source": [
    "import pyspark\n",
    "from pyspark.sql import SparkSession\n",
    "\n",
    "# Set up Spark session\n",
    "spark = SparkSession.builder \\\n",
    "    .appName(\"Join Text Files with Condition\") \\\n",
    "    .getOrCreate()"
   ]
  },
  {
   "cell_type": "code",
   "execution_count": 3,
   "id": "dfe94266",
   "metadata": {},
   "outputs": [],
   "source": [
    "# Read input files as RDDs\n",
    "viewership_rdd = spark.sparkContext.textFile(r\"D:\\Gurudeep\\2 MEC\\Subjects\\3 Year\\2 Big data\\Project\\Team 12\\input2.txt\")\n",
    "shows_rdd = spark.sparkContext.textFile(r\"D:\\Gurudeep\\2 MEC\\Subjects\\3 Year\\2 Big data\\Project\\Team 12\\input1.txt\")"
   ]
  },
  {
   "cell_type": "code",
   "execution_count": 4,
   "id": "445e0449",
   "metadata": {},
   "outputs": [],
   "source": [
    "# Split lines and convert to key-value pairs\n",
    "viewership_pairs_rdd = viewership_rdd.map(lambda line: line.split(\",\")).map(lambda cols: (cols[0], cols[1]))\n",
    "shows_pairs_rdd = shows_rdd.map(lambda line: line.split(\",\")).map(lambda cols: (cols[0], cols[1]))"
   ]
  },
  {
   "cell_type": "code",
   "execution_count": 5,
   "id": "a0e8a0b2",
   "metadata": {},
   "outputs": [
    {
     "name": "stdout",
     "output_type": "stream",
     "text": [
      "[('ShowName', 'Viewer')]\n"
     ]
    }
   ],
   "source": [
    "print(viewership_pairs_rdd.take(1))"
   ]
  },
  {
   "cell_type": "code",
   "execution_count": 6,
   "id": "3a16ba24",
   "metadata": {},
   "outputs": [
    {
     "name": "stdout",
     "output_type": "stream",
     "text": [
      "[('Show', 'Channel')]\n"
     ]
    }
   ],
   "source": [
    "print(shows_pairs_rdd.take(1))"
   ]
  },
  {
   "cell_type": "code",
   "execution_count": 7,
   "id": "00dee309",
   "metadata": {},
   "outputs": [],
   "source": [
    "# Perform join operation\n",
    "joined_rdd = viewership_pairs_rdd.join(shows_pairs_rdd)"
   ]
  },
  {
   "cell_type": "code",
   "execution_count": 8,
   "id": "bde5fbac",
   "metadata": {},
   "outputs": [
    {
     "data": {
      "text/plain": [
       "[('Cold_Talking', ('287', 'CNO'))]"
      ]
     },
     "execution_count": 8,
     "metadata": {},
     "output_type": "execute_result"
    }
   ],
   "source": [
    "joined_rdd.take(1)"
   ]
  },
  {
   "cell_type": "code",
   "execution_count": 9,
   "id": "822aaf1b",
   "metadata": {},
   "outputs": [],
   "source": [
    "# Filter by channel\n",
    "filtered_rdd = joined_rdd.filter(lambda row: row[1][1] == \"ABC\")"
   ]
  },
  {
   "cell_type": "code",
   "execution_count": 12,
   "id": "0d736d02",
   "metadata": {},
   "outputs": [
    {
     "data": {
      "text/plain": [
       "[('Baked_Games', ('459', 'ABC')),\n",
       " ('Baked_Games', ('200', 'ABC')),\n",
       " ('Baked_Games', ('1033', 'ABC')),\n",
       " ('Baked_Games', ('130', 'ABC')),\n",
       " ('Baked_Games', ('207', 'ABC'))]"
      ]
     },
     "execution_count": 12,
     "metadata": {},
     "output_type": "execute_result"
    }
   ],
   "source": [
    "filtered_rdd.take(5)"
   ]
  },
  {
   "cell_type": "code",
   "execution_count": 11,
   "id": "a5f4a3b7",
   "metadata": {},
   "outputs": [],
   "source": [
    "# Select desired columns\n",
    "wanted_rdd = filtered_rdd.map(lambda row: (row[1][0], (row[1][1])))"
   ]
  },
  {
   "cell_type": "code",
   "execution_count": 15,
   "id": "57a57c5f",
   "metadata": {},
   "outputs": [],
   "source": [
    "wanted_rdd = filtered_rdd.map(lambda x: (x[0], int(x[1][0])))"
   ]
  },
  {
   "cell_type": "code",
   "execution_count": 16,
   "id": "4393e2a7",
   "metadata": {},
   "outputs": [
    {
     "data": {
      "text/plain": [
       "[('Baked_Games', 459)]"
      ]
     },
     "execution_count": 16,
     "metadata": {},
     "output_type": "execute_result"
    }
   ],
   "source": [
    "wanted_rdd.take(1)"
   ]
  },
  {
   "cell_type": "code",
   "execution_count": 17,
   "id": "aca2a393",
   "metadata": {},
   "outputs": [],
   "source": [
    "# Perform sum aggregation\n",
    "grouped_rdd = wanted_rdd.reduceByKey(lambda a, b: a + b)"
   ]
  },
  {
   "cell_type": "code",
   "execution_count": 19,
   "id": "e6d3849c",
   "metadata": {},
   "outputs": [
    {
     "data": {
      "text/plain": [
       "[('Baked_Games', 9692),\n",
       " ('Dumb_Show', 9956),\n",
       " ('Hot_Show', 8036),\n",
       " ('Hot_Games', 8716),\n",
       " ('PostModern_Games', 8244),\n",
       " ('Hourly_Cooking', 8452),\n",
       " ('Surreal_News', 8024),\n",
       " ('Hourly_Talking', 19704),\n",
       " ('Almost_Show', 8532),\n",
       " ('Cold_Sports', 9636)]"
      ]
     },
     "execution_count": 19,
     "metadata": {},
     "output_type": "execute_result"
    }
   ],
   "source": [
    "grouped_rdd.take(10)"
   ]
  },
  {
   "cell_type": "code",
   "execution_count": 22,
   "id": "7f80f75d",
   "metadata": {},
   "outputs": [],
   "source": [
    "formatted_rdd = grouped_rdd.map(lambda x: f\"('{x[0]}', {x[1]})\")"
   ]
  },
  {
   "cell_type": "code",
   "execution_count": 24,
   "id": "4adfc0b5",
   "metadata": {},
   "outputs": [],
   "source": [
    "# Repartition the RDD to a single partition\n",
    "single_partition_rdd = formatted_rdd.repartition(1)\n",
    "\n",
    "# Collect the RDD to the driver as a list\n",
    "result_list = single_partition_rdd.collect()\n",
    "\n",
    "# Specify the output file path\n",
    "output_path = \"output.txt\"\n",
    "\n",
    "# Write the list to the output file\n",
    "with open(output_path, \"w\") as f:\n",
    "    for item in result_list:\n",
    "        f.write(item + \"\\n\")"
   ]
  },
  {
   "cell_type": "code",
   "execution_count": 25,
   "id": "f6609f7b",
   "metadata": {},
   "outputs": [],
   "source": [
    "spark.stop()"
   ]
  },
  {
   "cell_type": "code",
   "execution_count": null,
   "id": "4c30d835",
   "metadata": {},
   "outputs": [],
   "source": []
  }
 ],
 "metadata": {
  "kernelspec": {
   "display_name": "Python 3 (ipykernel)",
   "language": "python",
   "name": "python3"
  },
  "language_info": {
   "codemirror_mode": {
    "name": "ipython",
    "version": 3
   },
   "file_extension": ".py",
   "mimetype": "text/x-python",
   "name": "python",
   "nbconvert_exporter": "python",
   "pygments_lexer": "ipython3",
   "version": "3.9.13"
  }
 },
 "nbformat": 4,
 "nbformat_minor": 5
}
