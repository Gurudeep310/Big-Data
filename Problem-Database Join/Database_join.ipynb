{
 "cells": [
  {
   "cell_type": "code",
   "execution_count": 1,
   "metadata": {},
   "outputs": [
    {
     "data": {
      "text/plain": [
       "'C:\\\\spark-3.4.0-bin-hadoop3'"
      ]
     },
     "execution_count": 1,
     "metadata": {},
     "output_type": "execute_result"
    }
   ],
   "source": [
    "import findspark\n",
    "findspark.init()\n",
    "findspark.find()"
   ]
  },
  {
   "cell_type": "code",
   "execution_count": 2,
   "metadata": {},
   "outputs": [],
   "source": [
    "import pyspark\n",
    "from pyspark.sql import SparkSession\n",
    "spark = SparkSession.builder.appName(\"Database-join\").getOrCreate()"
   ]
  },
  {
   "cell_type": "code",
   "execution_count": 3,
   "metadata": {},
   "outputs": [],
   "source": [
    "joinA_rdd = spark.sparkContext.textFile(r\"C:\\Users\\Gurudeep\\Desktop\\spark-warehouse\\joinA.txt\")\n",
    "joinB_rdd = spark.sparkContext.textFile(r\"C:\\Users\\Gurudeep\\Desktop\\spark-warehouse\\joinB.txt\")"
   ]
  },
  {
   "cell_type": "code",
   "execution_count": 9,
   "metadata": {},
   "outputs": [
    {
     "data": {
      "text/plain": [
       "'able,991'"
      ]
     },
     "execution_count": 9,
     "metadata": {},
     "output_type": "execute_result"
    }
   ],
   "source": [
    "joinA_rdd.first()"
   ]
  },
  {
   "cell_type": "code",
   "execution_count": 70,
   "metadata": {},
   "outputs": [],
   "source": [
    "joinA_pairs_rdd = joinA_rdd.map(lambda line: line.split(\",\")).map(lambda cols: (cols[0],cols[1]))\n",
    "joinB_pairs_rdd = joinB_rdd.map(lambda line: line.split(\",\")).map(lambda cols: (cols[0].split()[1],cols[0].split()[0],cols[1]))\n",
    "#joinB_pairs_rdd = joinB_rdd.map(lambda line: line.split(\",\")).map(lambda cols: (cols[0],cols[1]))"
   ]
  },
  {
   "cell_type": "code",
   "execution_count": 71,
   "metadata": {},
   "outputs": [
    {
     "name": "stdout",
     "output_type": "stream",
     "text": [
      "[('able', '991'), ('about', '11'), ('burger', '15'), ('actor', '22'), ('about', '13')]\n",
      "[('able', 'Jan-01', '5'), ('about', 'Feb-02', '3'), ('about', 'Mar-03', '8'), ('able', 'Apr-04', '13'), ('actor', 'Feb-22', '3'), ('burger', 'Feb-23', '5'), ('burger', 'Mar-08', '2'), ('able', 'Dec-15', '100')]\n"
     ]
    }
   ],
   "source": [
    "print(joinA_pairs_rdd.take(5))\n",
    "print(joinB_pairs_rdd.take(8))"
   ]
  },
  {
   "cell_type": "code",
   "execution_count": 36,
   "metadata": {},
   "outputs": [
    {
     "name": "stdout",
     "output_type": "stream",
     "text": [
      "able  ,  Jan-01  ,  5\n",
      "about  ,  Feb-02  ,  3\n",
      "about  ,  Mar-03  ,  8\n",
      "able  ,  Apr-04  ,  13\n",
      "actor  ,  Feb-22  ,  3\n",
      "burger  ,  Feb-23  ,  5\n",
      "burger  ,  Mar-08  ,  2\n",
      "able  ,  Dec-15  ,  100\n"
     ]
    }
   ],
   "source": [
    "dataColl=joinB_pairs_rdd.collect()\n",
    "for row in dataColl:\n",
    "    print(row[0],\" , \",row[1],\" , \",row[2])"
   ]
  },
  {
   "cell_type": "code",
   "execution_count": 72,
   "metadata": {},
   "outputs": [],
   "source": [
    "joined_rdd = joinB_pairs_rdd.join(joinA_pairs_rdd)"
   ]
  },
  {
   "cell_type": "code",
   "execution_count": 86,
   "metadata": {},
   "outputs": [],
   "source": [
    "df_1 = joinA_pairs_rdd.toDF(['col1','col2'])\n",
    "df_2 = joinB_pairs_rdd.toDF(['col_1','col_2','col_3'])"
   ]
  },
  {
   "cell_type": "code",
   "execution_count": 89,
   "metadata": {},
   "outputs": [],
   "source": [
    "joined_df = df_1.join(df_2,df_2.col_1 == df_1.col1).select(\"col1\",\"col_2\",\"col_3\",\"col2\")"
   ]
  },
  {
   "cell_type": "code",
   "execution_count": 90,
   "metadata": {},
   "outputs": [
    {
     "name": "stdout",
     "output_type": "stream",
     "text": [
      "+------+------+-----+----+\n",
      "|  col1| col_2|col_3|col2|\n",
      "+------+------+-----+----+\n",
      "|  able|Jan-01|    5| 991|\n",
      "|  able|Apr-04|   13| 991|\n",
      "|  able|Dec-15|  100| 991|\n",
      "| about|Feb-02|    3|  11|\n",
      "| about|Mar-03|    8|  11|\n",
      "| about|Feb-02|    3|  13|\n",
      "| about|Mar-03|    8|  13|\n",
      "| actor|Feb-22|    3|  22|\n",
      "|burger|Feb-23|    5|  15|\n",
      "|burger|Mar-08|    2|  15|\n",
      "+------+------+-----+----+\n",
      "\n"
     ]
    }
   ],
   "source": [
    "joined_df.show()"
   ]
  },
  {
   "cell_type": "code",
   "execution_count": 93,
   "metadata": {},
   "outputs": [],
   "source": [
    "import pandas as pd"
   ]
  },
  {
   "cell_type": "code",
   "execution_count": 96,
   "metadata": {},
   "outputs": [],
   "source": [
    "df = pd.DataFrame()"
   ]
  },
  {
   "cell_type": "code",
   "execution_count": 94,
   "metadata": {},
   "outputs": [],
   "source": [
    "col1 = joined_df.select(\"col1\").rdd.flatMap(lambda x: x).collect()\n",
    "col_2 = joined_df.select(\"col_2\").rdd.flatMap(lambda x: x).collect()\n",
    "col_3 = joined_df.select(\"col_3\").rdd.flatMap(lambda x: x).collect()\n",
    "col2 = joined_df.select(\"col2\").rdd.flatMap(lambda x: x).collect()"
   ]
  },
  {
   "cell_type": "code",
   "execution_count": 97,
   "metadata": {},
   "outputs": [],
   "source": [
    "df['col1'] = col1\n",
    "df['col_2'] = col_2\n",
    "df['col_3'] = col_3\n",
    "df['col2'] = col2"
   ]
  },
  {
   "cell_type": "code",
   "execution_count": 101,
   "metadata": {},
   "outputs": [],
   "source": [
    "# create tuples for each row\n",
    "tuples = list(df.itertuples(index=False, name=None))\n",
    "\n",
    "# write tuples to text file\n",
    "with open('output.txt', 'w') as f:\n",
    "    for t in tuples:\n",
    "        line = '(' + ','.join(str(x) for x in t) + ')' + '\\n'\n",
    "        f.write((line))"
   ]
  }
 ],
 "metadata": {
  "kernelspec": {
   "display_name": "Python 3 (ipykernel)",
   "language": "python",
   "name": "python3"
  },
  "language_info": {
   "codemirror_mode": {
    "name": "ipython",
    "version": 3
   },
   "file_extension": ".py",
   "mimetype": "text/x-python",
   "name": "python",
   "nbconvert_exporter": "python",
   "pygments_lexer": "ipython3",
   "version": "3.9.13"
  }
 },
 "nbformat": 4,
 "nbformat_minor": 2
}
